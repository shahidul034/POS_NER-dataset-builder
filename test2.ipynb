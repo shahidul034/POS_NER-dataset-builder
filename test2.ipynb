{
 "cells": [
  {
   "cell_type": "code",
   "execution_count": null,
   "metadata": {},
   "outputs": [],
   "source": [
    "def nothing():\n",
    "    print(\"ok\")\n",
    "    return \"nothing\"\n",
    "import gradio as gr\n",
    "css = \"\"\"\n",
    "#accepted {background-color: green;align-content: center;font: 30px Arial, sans-serif;}\n",
    "#wrong {background-color: red;align-content: center;font: 30px Arial, sans-serif;}\n",
    "#already {background-color: blue;align-content: center;font: 30px Arial, sans-serif;}\n",
    "\"\"\"\n",
    "cnt=0\n",
    "with gr.Blocks(css=css) as demo:\n",
    "    cnt=cnt+1\n",
    "    print(\"cnt1\")\n",
    "    with gr.Row():\n",
    "        print(\"cnt2\")\n",
    "        show_text2 = gr.Textbox(value=\"text\")\n",
    "    with gr.Row():\n",
    "        check = gr.Button(\"Check\")\n",
    "    print(\"cnt3\")\n",
    "    check.click(nothing,inputs=None,outputs=None)\n",
    "\n",
    "demo.launch(share=False)"
   ]
  },
  {
   "cell_type": "code",
   "execution_count": 1,
   "metadata": {},
   "outputs": [],
   "source": [
    "import pandas as pd\n",
    "translated_dataset = pd.read_excel(\"translated_dataset.xlsx\")"
   ]
  },
  {
   "cell_type": "code",
   "execution_count": 11,
   "metadata": {},
   "outputs": [
    {
     "name": "stdout",
     "output_type": "stream",
     "text": [
      "******************** <class 'str'>\n"
     ]
    }
   ],
   "source": [
    "result=translated_dataset.loc[translated_dataset['id'] == 2, 'Bangla']\n",
    "print(\"*\"*20,type(str(result)))"
   ]
  },
  {
   "cell_type": "code",
   "execution_count": 20,
   "metadata": {},
   "outputs": [
    {
     "data": {
      "text/plain": [
       "str"
      ]
     },
     "execution_count": 20,
     "metadata": {},
     "output_type": "execute_result"
    }
   ],
   "source": [
    "type(result.values[0])"
   ]
  },
  {
   "cell_type": "code",
   "execution_count": null,
   "metadata": {},
   "outputs": [],
   "source": []
  }
 ],
 "metadata": {
  "kernelspec": {
   "display_name": "ai_clssifier",
   "language": "python",
   "name": "python3"
  },
  "language_info": {
   "codemirror_mode": {
    "name": "ipython",
    "version": 3
   },
   "file_extension": ".py",
   "mimetype": "text/x-python",
   "name": "python",
   "nbconvert_exporter": "python",
   "pygments_lexer": "ipython3",
   "version": "3.10.13"
  }
 },
 "nbformat": 4,
 "nbformat_minor": 2
}
